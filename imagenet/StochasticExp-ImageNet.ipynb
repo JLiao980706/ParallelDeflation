{
 "cells": [
  {
   "cell_type": "code",
   "execution_count": 1,
   "metadata": {},
   "outputs": [],
   "source": [
    "import numpy as np\n",
    "from stochastic_solvers_imagenet import *\n",
    "from utils import *\n",
    "from data_utils import *\n",
    "import os\n",
    "from torch.utils.data import Dataset, DataLoader\n",
    "from torchvision.io import read_image, ImageReadMode\n",
    "from torchvision import transforms\n",
    "from tqdm import tqdm\n",
    "\n",
    "np.random.seed(41)"
   ]
  },
  {
   "cell_type": "code",
   "execution_count": 2,
   "metadata": {},
   "outputs": [],
   "source": [
    "batch_size = 64"
   ]
  },
  {
   "cell_type": "code",
   "execution_count": 3,
   "metadata": {},
   "outputs": [
    {
     "name": "stderr",
     "output_type": "stream",
     "text": [
      "100%|█████████████████████████████████████████████████████████████████████████████████████████████████████████████████████████████████████████████████| 1000/1000 [00:01<00:00, 580.57it/s]\n"
     ]
    }
   ],
   "source": [
    "train_dir = \"ILSVRC/Data/CLS-LOC/train\"\n",
    "\n",
    "transform = transforms.Compose([\n",
    "    transforms.Resize((224, 224)),\n",
    "    transforms.Lambda(lambda x: x.view(-1)),  \n",
    "    transforms.Lambda(lambda x: x / 255.0)\n",
    "])\n",
    "\n",
    "dataset = ImageNetTrainDataset(train_dir, transform=transform)\n",
    "\n",
    "randomBatchGetter = RandomBatchGetter(dataset, batch_size)"
   ]
  },
  {
   "cell_type": "code",
   "execution_count": 4,
   "metadata": {},
   "outputs": [],
   "source": [
    "r = 30\n",
    "step_size_func = lambda idx: 2 / (1 + np.floor(idx / 100))\n",
    "\n",
    "# eval_func = lambda x: compute_avg_error(true_evecs, x)"
   ]
  },
  {
   "cell_type": "code",
   "execution_count": 5,
   "metadata": {},
   "outputs": [
    {
     "name": "stdout",
     "output_type": "stream",
     "text": [
      "Current round 0\n",
      "Current round 1\n",
      "Current round 2\n",
      "Current round 3\n",
      "Current round 4\n",
      "Time taken 17.874545097351074\n"
     ]
    }
   ],
   "source": [
    "import time\n",
    "\n",
    "start_time = time.time()\n",
    "L = 50\n",
    "T = 10\n",
    "\n",
    "evecs_hist = parallel_deflation_1(r, L, T, step_size_func, randomBatchGetter, update='hebb', num_workers=16 * 2, parallel_mode=\"thread\")\n",
    "\n",
    "print(f\"Time taken {time.time() - start_time}\")"
   ]
  },
  {
   "cell_type": "code",
   "execution_count": 9,
   "metadata": {},
   "outputs": [
    {
     "name": "stdout",
     "output_type": "stream",
     "text": [
      "Current round 0\n",
      "Current round 1\n",
      "Current round 2\n",
      "Current round 3\n",
      "Current round 4\n",
      "Time taken 16.754937887191772\n"
     ]
    }
   ],
   "source": [
    "import time\n",
    "\n",
    "start_time = time.time()\n",
    "L = 50\n",
    "T = 10\n",
    "\n",
    "final_evecs = parallel_deflation_save_only_last(r, L, T, step_size_func, randomBatchGetter, update='hebb', num_workers=16 * 2, parallel_mode=\"thread\")\n",
    "\n",
    "print(f\"Time taken {time.time() - start_time}\")"
   ]
  },
  {
   "cell_type": "code",
   "execution_count": 10,
   "metadata": {},
   "outputs": [
    {
     "data": {
      "text/plain": [
       "(30, 50176)"
      ]
     },
     "execution_count": 10,
     "metadata": {},
     "output_type": "execute_result"
    }
   ],
   "source": [
    "final_evecs.shape"
   ]
  },
  {
   "cell_type": "markdown",
   "metadata": {},
   "source": [
    "# Start from Here!"
   ]
  },
  {
   "cell_type": "code",
   "execution_count": 1,
   "metadata": {},
   "outputs": [
    {
     "name": "stderr",
     "output_type": "stream",
     "text": [
      "100%|█████████████████████████████████████████████████████████████████████████████████████████████████████████████████████████████████████████████████| 1000/1000 [00:01<00:00, 578.36it/s]\n"
     ]
    }
   ],
   "source": [
    "import numpy as np\n",
    "from stochastic_solvers_imagenet import *\n",
    "from utils import *\n",
    "from data_utils import *\n",
    "import os\n",
    "from torch.utils.data import Dataset, DataLoader\n",
    "from torchvision.io import read_image, ImageReadMode\n",
    "from torchvision import transforms\n",
    "from tqdm import tqdm\n",
    "\n",
    "np.random.seed(41)\n",
    "\n",
    "import time\n",
    "\n",
    "train_dir = \"ILSVRC/Data/CLS-LOC/train\"\n",
    "\n",
    "transform = transforms.Compose([\n",
    "    transforms.Resize((224, 224)),\n",
    "    transforms.Lambda(lambda x: x.view(-1)),  \n",
    "    transforms.Lambda(lambda x: x / 255.0)\n",
    "])\n",
    "\n",
    "batch_size = 1000\n",
    "dataset = ImageNetTrainDataset(train_dir, transform=transform)\n",
    "randomBatchGetter = RandomBatchGetter(dataset, batch_size)\n",
    "\n",
    "eval_batch_size = 1000\n",
    "eval_randomBatchGetter = RandomBatchGetter(dataset, eval_batch_size)"
   ]
  },
  {
   "cell_type": "code",
   "execution_count": null,
   "metadata": {},
   "outputs": [
    {
     "name": "stdout",
     "output_type": "stream",
     "text": [
      "Current round 0\n",
      "Computing for lambda 0\n"
     ]
    },
    {
     "name": "stderr",
     "output_type": "stream",
     "text": [
      " 22%|████████████████████████████████▎                                                                                                                  | 281/1280 [10:09<36:14,  2.18s/it]"
     ]
    }
   ],
   "source": [
    "start_time = time.time()\n",
    "r = 30\n",
    "L = 50\n",
    "T = 10\n",
    "# step_size_func = lambda idx: 2 / (1 + np.floor(idx / 100))\n",
    "\n",
    "step_size_func = decaying_schedule_with_warmup\n",
    "\n",
    "final_evecs = parallel_deflation_save_only_last(r, L, T, step_size_func, \n",
    "                                                randomBatchGetter, \n",
    "                                                update='hebb', \n",
    "                                                eval_func=evaluate_ImageNet, \n",
    "                                                eval_B=eval_batch_size, \n",
    "                                                eval_randomBatchGetter=eval_randomBatchGetter, \n",
    "                                                num_workers=10, \n",
    "                                                parallel_mode=\"thread\")\n",
    "\n",
    "print(f\"Time taken {time.time() - start_time}\")"
   ]
  }
 ],
 "metadata": {
  "kernelspec": {
   "display_name": "pca",
   "language": "python",
   "name": "pca"
  },
  "language_info": {
   "codemirror_mode": {
    "name": "ipython",
    "version": 3
   },
   "file_extension": ".py",
   "mimetype": "text/x-python",
   "name": "python",
   "nbconvert_exporter": "python",
   "pygments_lexer": "ipython3",
   "version": "3.11.3"
  }
 },
 "nbformat": 4,
 "nbformat_minor": 4
}
