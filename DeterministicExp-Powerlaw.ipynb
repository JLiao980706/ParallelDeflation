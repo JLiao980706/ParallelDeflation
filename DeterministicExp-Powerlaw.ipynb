{
 "cells": [
  {
   "cell_type": "code",
   "execution_count": null,
   "metadata": {},
   "outputs": [],
   "source": [
    "import numpy as np\n",
    "from centralized_solvers import eigengame, parallel_deflation\n",
    "from utils import *\n",
    "\n",
    "np.random.seed(41)"
   ]
  },
  {
   "cell_type": "markdown",
   "metadata": {},
   "source": [
    "# Powerlaw Matrix Experiment"
   ]
  },
  {
   "cell_type": "code",
   "execution_count": 2,
   "metadata": {},
   "outputs": [],
   "source": [
    "d = 1000\n",
    "r = 30\n",
    "num_trials = 10\n",
    "step_size_func = lambda idx: 0\n",
    "true_evecs, mat = generate_powerlaw_matrix(d, r, 0.5)"
   ]
  },
  {
   "cell_type": "markdown",
   "metadata": {},
   "source": [
    "## Parallel Deflation-Powerlaw"
   ]
  },
  {
   "cell_type": "code",
   "execution_count": 3,
   "metadata": {},
   "outputs": [
    {
     "name": "stdout",
     "output_type": "stream",
     "text": [
      "Running Trial #1\n",
      "Trial #1 Error: 0.6170087434972474\n",
      "Running Trial #2\n",
      "Trial #2 Error: 0.014156696596662013\n",
      "Running Trial #3\n",
      "Trial #3 Error: 0.018683790703208563\n",
      "Running Trial #4\n",
      "Trial #4 Error: 0.04284737134967117\n",
      "Running Trial #5\n",
      "Trial #5 Error: 0.24447803788547745\n",
      "Running Trial #6\n",
      "Trial #6 Error: 0.07651287790748663\n",
      "Running Trial #7\n",
      "Trial #7 Error: 0.010803665521393911\n",
      "Running Trial #8\n",
      "Trial #8 Error: 0.07463928085321894\n",
      "Running Trial #9\n",
      "Trial #9 Error: 0.022134647882154555\n",
      "Running Trial #10\n",
      "Trial #10 Error: 0.016088754232296106\n"
     ]
    }
   ],
   "source": [
    "L = 330\n",
    "T = 1\n",
    "\n",
    "all_max_errs = np.zeros((num_trials, L+1))\n",
    "all_avg_errs = np.zeros((num_trials, L+1))\n",
    "for trial_idx in range(num_trials):\n",
    "    print(f'Running Trial #{trial_idx+1}')\n",
    "    evecs_hist = parallel_deflation(mat, r, L, T, step_size_func, update='pw')\n",
    "    all_max_errs[trial_idx] = np.array([compute_max_error(true_evecs, evecs) for evecs in evecs_hist])\n",
    "    all_avg_errs[trial_idx] = np.array([compute_avg_error(true_evecs, evecs) for evecs in evecs_hist])\n",
    "    print(f'Trial #{trial_idx+1} Error: {all_max_errs[trial_idx,-1]}')\n",
    "\n",
    "max_err_mean_T1 = all_max_errs.mean(axis=0)\n",
    "max_err_std_T1 = all_max_errs.std(axis=0)\n",
    "avg_err_mean_T1 = all_avg_errs.mean(axis=0)\n",
    "avg_err_std_T1 = all_avg_errs.std(axis=0)"
   ]
  },
  {
   "cell_type": "code",
   "execution_count": 4,
   "metadata": {},
   "outputs": [
    {
     "name": "stdout",
     "output_type": "stream",
     "text": [
      "Running Trial #1\n",
      "Trial #1 Error: 0.00018788964614953668\n",
      "Running Trial #2\n",
      "Trial #2 Error: 0.00023465055642438976\n",
      "Running Trial #3\n",
      "Trial #3 Error: 0.00032095478749543624\n",
      "Running Trial #4\n",
      "Trial #4 Error: 0.0001418847113561381\n",
      "Running Trial #5\n",
      "Trial #5 Error: 0.012748471098848307\n",
      "Running Trial #6\n",
      "Trial #6 Error: 0.0005374993215045839\n",
      "Running Trial #7\n",
      "Trial #7 Error: 0.000741614558797156\n",
      "Running Trial #8\n",
      "Trial #8 Error: 0.0014542138885240378\n",
      "Running Trial #9\n",
      "Trial #9 Error: 0.00040141348812095033\n",
      "Running Trial #10\n",
      "Trial #10 Error: 0.00034306037768981634\n"
     ]
    }
   ],
   "source": [
    "L = 200\n",
    "T = 3\n",
    "\n",
    "all_max_errs = np.zeros((num_trials, L+1))\n",
    "all_avg_errs = np.zeros((num_trials, L+1))\n",
    "for trial_idx in range(num_trials):\n",
    "    print(f'Running Trial #{trial_idx+1}')\n",
    "    evecs_hist = parallel_deflation(mat, r, L, T, step_size_func, update='pw')\n",
    "    all_max_errs[trial_idx] = np.array([compute_max_error(true_evecs, evecs) for evecs in evecs_hist])\n",
    "    all_avg_errs[trial_idx] = np.array([compute_avg_error(true_evecs, evecs) for evecs in evecs_hist])\n",
    "    print(f'Trial #{trial_idx+1} Error: {all_max_errs[trial_idx,-1]}')\n",
    "\n",
    "max_err_mean_T3 = all_max_errs.mean(axis=0)\n",
    "max_err_std_T3 = all_max_errs.std(axis=0)\n",
    "avg_err_mean_T3 = all_avg_errs.mean(axis=0)\n",
    "avg_err_std_T3 = all_avg_errs.std(axis=0)"
   ]
  },
  {
   "cell_type": "code",
   "execution_count": 5,
   "metadata": {},
   "outputs": [
    {
     "name": "stdout",
     "output_type": "stream",
     "text": [
      "Running Trial #1\n",
      "Trial #1 Error: 0.010430093307903785\n",
      "Running Trial #2\n",
      "Trial #2 Error: 0.007108754413398991\n",
      "Running Trial #3\n",
      "Trial #3 Error: 0.00740567158528017\n",
      "Running Trial #4\n",
      "Trial #4 Error: 0.0102167563471532\n",
      "Running Trial #5\n",
      "Trial #5 Error: 0.013294161835603691\n",
      "Running Trial #6\n",
      "Trial #6 Error: 0.005905011817559792\n",
      "Running Trial #7\n",
      "Trial #7 Error: 0.0014119487745856427\n",
      "Running Trial #8\n",
      "Trial #8 Error: 0.003839735894610592\n",
      "Running Trial #9\n",
      "Trial #9 Error: 0.005182671307584795\n",
      "Running Trial #10\n",
      "Trial #10 Error: 0.003334299463963169\n"
     ]
    }
   ],
   "source": [
    "L = 100\n",
    "T = 5\n",
    "\n",
    "all_max_errs = np.zeros((num_trials, L+1))\n",
    "all_avg_errs = np.zeros((num_trials, L+1))\n",
    "for trial_idx in range(num_trials):\n",
    "    print(f'Running Trial #{trial_idx+1}')\n",
    "    evecs_hist = parallel_deflation(mat, r, L, T, step_size_func, update='pw')\n",
    "    all_max_errs[trial_idx] = np.array([compute_max_error(true_evecs, evecs) for evecs in evecs_hist])\n",
    "    all_avg_errs[trial_idx] = np.array([compute_avg_error(true_evecs, evecs) for evecs in evecs_hist])\n",
    "    print(f'Trial #{trial_idx+1} Error: {all_max_errs[trial_idx,-1]}')\n",
    "\n",
    "max_err_mean_T5 = all_max_errs.mean(axis=0)\n",
    "max_err_std_T5 = all_max_errs.std(axis=0)\n",
    "avg_err_mean_T5 = all_avg_errs.mean(axis=0)\n",
    "avg_err_std_T5 = all_avg_errs.std(axis=0)"
   ]
  },
  {
   "cell_type": "code",
   "execution_count": 7,
   "metadata": {},
   "outputs": [],
   "source": [
    "import json\n",
    "\n",
    "max_err_results = dict()\n",
    "avg_err_results = dict()\n",
    "\n",
    "max_err_results['T=1'] = (max_err_mean_T1.tolist(), max_err_std_T1.tolist())\n",
    "max_err_results['T=3'] = (max_err_mean_T3.tolist(), max_err_std_T3.tolist())\n",
    "max_err_results['T=5'] = (max_err_mean_T5.tolist(), max_err_std_T5.tolist())\n",
    "\n",
    "avg_err_results['T=1'] = (avg_err_mean_T1.tolist(), avg_err_std_T1.tolist())\n",
    "avg_err_results['T=3'] = (avg_err_mean_T3.tolist(), avg_err_std_T3.tolist())\n",
    "avg_err_results['T=5'] = (avg_err_mean_T5.tolist(), avg_err_std_T5.tolist())\n",
    "\n",
    "with open('parallel_deflation_powerlaw.txt', 'w+') as jfile:\n",
    "    json.dump(dict(max_result=max_err_results, avg_result=avg_err_results), jfile)"
   ]
  },
  {
   "cell_type": "markdown",
   "metadata": {},
   "source": [
    "## EigenGame-Alpha-Powerlaw"
   ]
  },
  {
   "cell_type": "code",
   "execution_count": 8,
   "metadata": {},
   "outputs": [
    {
     "name": "stdout",
     "output_type": "stream",
     "text": [
      "Running Trial #1\n",
      "Trial #1 Error: 0.024197625345417823\n",
      "Running Trial #2\n",
      "Trial #2 Error: 0.056951854430921\n",
      "Running Trial #3\n",
      "Trial #3 Error: 0.06192854695405007\n",
      "Running Trial #4\n",
      "Trial #4 Error: 0.7450282317662913\n",
      "Running Trial #5\n",
      "Trial #5 Error: 0.39593295459699296\n",
      "Running Trial #6\n",
      "Trial #6 Error: 0.08739991314021464\n",
      "Running Trial #7\n",
      "Trial #7 Error: 0.5468351862321175\n",
      "Running Trial #8\n",
      "Trial #8 Error: 0.4369154087428341\n",
      "Running Trial #9\n",
      "Trial #9 Error: 0.048454612368939\n",
      "Running Trial #10\n",
      "Trial #10 Error: 0.1822300169894266\n"
     ]
    }
   ],
   "source": [
    "L = 330\n",
    "T = 1\n",
    "\n",
    "all_max_errs = np.zeros((num_trials, L+1))\n",
    "all_avg_errs = np.zeros((num_trials, L+1))\n",
    "for trial_idx in range(num_trials):\n",
    "    print(f'Running Trial #{trial_idx+1}')\n",
    "    evecs_hist = eigengame(mat, r, L, T, step_size_func, update='alpha')\n",
    "    all_max_errs[trial_idx] = np.array([compute_max_error(true_evecs, evecs) for evecs in evecs_hist])\n",
    "    all_avg_errs[trial_idx] = np.array([compute_avg_error(true_evecs, evecs) for evecs in evecs_hist])\n",
    "    print(f'Trial #{trial_idx+1} Error: {all_max_errs[trial_idx,-1]}')\n",
    "\n",
    "max_err_mean_T1 = all_max_errs.mean(axis=0)\n",
    "max_err_std_T1 = all_max_errs.std(axis=0)\n",
    "avg_err_mean_T1 = all_avg_errs.mean(axis=0)\n",
    "avg_err_std_T1 = all_avg_errs.std(axis=0)"
   ]
  },
  {
   "cell_type": "code",
   "execution_count": 9,
   "metadata": {},
   "outputs": [
    {
     "name": "stdout",
     "output_type": "stream",
     "text": [
      "Running Trial #1\n",
      "Trial #1 Error: 0.01355517069401747\n",
      "Running Trial #2\n",
      "Trial #2 Error: 0.021721519531740008\n",
      "Running Trial #3\n",
      "Trial #3 Error: 0.03112681778474548\n",
      "Running Trial #4\n",
      "Trial #4 Error: 0.007629487371162138\n",
      "Running Trial #5\n",
      "Trial #5 Error: 0.00225414259706372\n",
      "Running Trial #6\n",
      "Trial #6 Error: 0.014969478101954755\n",
      "Running Trial #7\n",
      "Trial #7 Error: 0.0030319185204060735\n",
      "Running Trial #8\n",
      "Trial #8 Error: 0.006222336016917748\n",
      "Running Trial #9\n",
      "Trial #9 Error: 0.009091972696492997\n",
      "Running Trial #10\n",
      "Trial #10 Error: 0.0054791245631865505\n"
     ]
    }
   ],
   "source": [
    "L = 100\n",
    "T = 5\n",
    "\n",
    "all_max_errs = np.zeros((num_trials, L+1))\n",
    "all_avg_errs = np.zeros((num_trials, L+1))\n",
    "for trial_idx in range(num_trials):\n",
    "    print(f'Running Trial #{trial_idx+1}')\n",
    "    evecs_hist = eigengame(mat, r, L, T, step_size_func, update='alpha')\n",
    "    all_max_errs[trial_idx] = np.array([compute_max_error(true_evecs, evecs) for evecs in evecs_hist])\n",
    "    all_avg_errs[trial_idx] = np.array([compute_avg_error(true_evecs, evecs) for evecs in evecs_hist])\n",
    "    print(f'Trial #{trial_idx+1} Error: {all_max_errs[trial_idx,-1]}')\n",
    "\n",
    "max_err_mean_T5 = all_max_errs.mean(axis=0)\n",
    "max_err_std_T5 = all_max_errs.std(axis=0)\n",
    "avg_err_mean_T5 = all_avg_errs.mean(axis=0)\n",
    "avg_err_std_T5 = all_avg_errs.std(axis=0)"
   ]
  },
  {
   "cell_type": "code",
   "execution_count": 10,
   "metadata": {},
   "outputs": [],
   "source": [
    "import json\n",
    "\n",
    "max_err_results = dict()\n",
    "avg_err_results = dict()\n",
    "\n",
    "max_err_results['T=1'] = (max_err_mean_T1.tolist(), max_err_std_T1.tolist())\n",
    "max_err_results['T=5'] = (max_err_mean_T5.tolist(), max_err_std_T5.tolist())\n",
    "\n",
    "avg_err_results['T=1'] = (avg_err_mean_T1.tolist(), avg_err_std_T1.tolist())\n",
    "avg_err_results['T=5'] = (avg_err_mean_T5.tolist(), avg_err_std_T5.tolist())\n",
    "\n",
    "with open('eigengame_alpha_powerlaw.txt', 'w+') as jfile:\n",
    "    json.dump(dict(max_result=max_err_results, avg_result=avg_err_results), jfile)"
   ]
  },
  {
   "cell_type": "markdown",
   "metadata": {},
   "source": [
    "## EigenGame-Mu-Powerlaw"
   ]
  },
  {
   "cell_type": "code",
   "execution_count": 11,
   "metadata": {},
   "outputs": [
    {
     "name": "stdout",
     "output_type": "stream",
     "text": [
      "Running Trial #1\n",
      "Trial #1 Error: 0.20907109665059043\n",
      "Running Trial #2\n",
      "Trial #2 Error: 0.11629510500764323\n",
      "Running Trial #3\n",
      "Trial #3 Error: 0.02557805138864907\n",
      "Running Trial #4\n",
      "Trial #4 Error: 0.012519744028954635\n",
      "Running Trial #5\n",
      "Trial #5 Error: 0.022792834472994926\n",
      "Running Trial #6\n",
      "Trial #6 Error: 0.009146135566435192\n",
      "Running Trial #7\n",
      "Trial #7 Error: 0.02469271679441713\n",
      "Running Trial #8\n",
      "Trial #8 Error: 0.7689732985792731\n",
      "Running Trial #9\n",
      "Trial #9 Error: 0.3065125684238299\n",
      "Running Trial #10\n",
      "Trial #10 Error: 0.01878237596375166\n"
     ]
    }
   ],
   "source": [
    "L = 330\n",
    "T = 1\n",
    "\n",
    "all_max_errs = np.zeros((num_trials, L+1))\n",
    "all_avg_errs = np.zeros((num_trials, L+1))\n",
    "for trial_idx in range(num_trials):\n",
    "    print(f'Running Trial #{trial_idx+1}')\n",
    "    evecs_hist = eigengame(mat, r, L, T, step_size_func, update='mu')\n",
    "    all_max_errs[trial_idx] = np.array([compute_max_error(true_evecs, evecs) for evecs in evecs_hist])\n",
    "    all_avg_errs[trial_idx] = np.array([compute_avg_error(true_evecs, evecs) for evecs in evecs_hist])\n",
    "    print(f'Trial #{trial_idx+1} Error: {all_max_errs[trial_idx,-1]}')\n",
    "\n",
    "max_err_mean_T1 = all_max_errs.mean(axis=0)\n",
    "max_err_std_T1 = all_max_errs.std(axis=0)\n",
    "avg_err_mean_T1 = all_avg_errs.mean(axis=0)\n",
    "avg_err_std_T1 = all_avg_errs.std(axis=0)"
   ]
  },
  {
   "cell_type": "code",
   "execution_count": 12,
   "metadata": {},
   "outputs": [
    {
     "name": "stdout",
     "output_type": "stream",
     "text": [
      "Running Trial #1\n",
      "Trial #1 Error: 0.04324131033322986\n",
      "Running Trial #2\n",
      "Trial #2 Error: 0.0019026182501759245\n",
      "Running Trial #3\n",
      "Trial #3 Error: 0.01682867993586583\n",
      "Running Trial #4\n",
      "Trial #4 Error: 0.010845411897751971\n",
      "Running Trial #5\n",
      "Trial #5 Error: 0.005791026454320467\n",
      "Running Trial #6\n",
      "Trial #6 Error: 0.011407835277337996\n",
      "Running Trial #7\n",
      "Trial #7 Error: 0.029648532762574932\n",
      "Running Trial #8\n",
      "Trial #8 Error: 0.020782358936193155\n",
      "Running Trial #9\n",
      "Trial #9 Error: 0.009361098105027199\n",
      "Running Trial #10\n",
      "Trial #10 Error: 0.005919208889986954\n"
     ]
    }
   ],
   "source": [
    "L = 100\n",
    "T = 5\n",
    "\n",
    "all_max_errs = np.zeros((num_trials, L+1))\n",
    "all_avg_errs = np.zeros((num_trials, L+1))\n",
    "for trial_idx in range(num_trials):\n",
    "    print(f'Running Trial #{trial_idx+1}')\n",
    "    evecs_hist = eigengame(mat, r, L, T, step_size_func, update='mu')\n",
    "    all_max_errs[trial_idx] = np.array([compute_max_error(true_evecs, evecs) for evecs in evecs_hist])\n",
    "    all_avg_errs[trial_idx] = np.array([compute_avg_error(true_evecs, evecs) for evecs in evecs_hist])\n",
    "    print(f'Trial #{trial_idx+1} Error: {all_max_errs[trial_idx,-1]}')\n",
    "\n",
    "max_err_mean_T5 = all_max_errs.mean(axis=0)\n",
    "max_err_std_T5 = all_max_errs.std(axis=0)\n",
    "avg_err_mean_T5 = all_avg_errs.mean(axis=0)\n",
    "avg_err_std_T5 = all_avg_errs.std(axis=0)"
   ]
  },
  {
   "cell_type": "code",
   "execution_count": 13,
   "metadata": {},
   "outputs": [],
   "source": [
    "import json\n",
    "\n",
    "max_err_results = dict()\n",
    "avg_err_results = dict()\n",
    "\n",
    "max_err_results['T=1'] = (max_err_mean_T1.tolist(), max_err_std_T1.tolist())\n",
    "max_err_results['T=5'] = (max_err_mean_T5.tolist(), max_err_std_T5.tolist())\n",
    "\n",
    "avg_err_results['T=1'] = (avg_err_mean_T1.tolist(), avg_err_std_T1.tolist())\n",
    "avg_err_results['T=5'] = (avg_err_mean_T5.tolist(), avg_err_std_T5.tolist())\n",
    "\n",
    "with open('eigengame_mu_powerlaw.txt', 'w+') as jfile:\n",
    "    json.dump(dict(max_result=max_err_results, avg_result=avg_err_results), jfile)"
   ]
  },
  {
   "cell_type": "code",
   "execution_count": null,
   "metadata": {},
   "outputs": [],
   "source": []
  }
 ],
 "metadata": {
  "kernelspec": {
   "display_name": "Python 3",
   "language": "python",
   "name": "python3"
  },
  "language_info": {
   "codemirror_mode": {
    "name": "ipython",
    "version": 3
   },
   "file_extension": ".py",
   "mimetype": "text/x-python",
   "name": "python",
   "nbconvert_exporter": "python",
   "pygments_lexer": "ipython3",
   "version": "3.8.1"
  }
 },
 "nbformat": 4,
 "nbformat_minor": 4
}
