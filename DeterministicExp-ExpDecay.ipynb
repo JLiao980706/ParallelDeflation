{
 "cells": [
  {
   "cell_type": "code",
   "execution_count": 1,
   "metadata": {},
   "outputs": [],
   "source": [
    "import numpy as np\n",
    "from centralized_solvers import eigengame, parallel_deflation\n",
    "from utils import *\n",
    "\n",
    "np.random.seed(41)"
   ]
  },
  {
   "cell_type": "markdown",
   "metadata": {},
   "source": [
    "# Powerlaw Matrix Experiment"
   ]
  },
  {
   "cell_type": "code",
   "execution_count": 2,
   "metadata": {},
   "outputs": [],
   "source": [
    "d = 1000\n",
    "r = 30\n",
    "num_trials = 10\n",
    "step_size_func = lambda idx: 0\n",
    "true_evecs, mat = generate_expdecay_matrix(d, r, 1.1)"
   ]
  },
  {
   "cell_type": "markdown",
   "metadata": {},
   "source": [
    "## Parallel Deflation-Powerlaw"
   ]
  },
  {
   "cell_type": "code",
   "execution_count": 3,
   "metadata": {},
   "outputs": [
    {
     "name": "stdout",
     "output_type": "stream",
     "text": [
      "Running Trial #1\n",
      "Trial #1 Error: 4.470348358154297e-08\n",
      "Running Trial #2\n",
      "Trial #2 Error: 4.470348358154297e-08\n",
      "Running Trial #3\n",
      "Trial #3 Error: 4.712160915387242e-08\n",
      "Running Trial #4\n",
      "Trial #4 Error: 4.2146848510894035e-08\n",
      "Running Trial #5\n",
      "Trial #5 Error: 4.2146848510894035e-08\n",
      "Running Trial #6\n",
      "Trial #6 Error: 4.2146848510894035e-08\n",
      "Running Trial #7\n",
      "Trial #7 Error: 4.712160915387242e-08\n",
      "Running Trial #8\n",
      "Trial #8 Error: 4.712160915387242e-08\n",
      "Running Trial #9\n"
     ]
    },
    {
     "name": "stderr",
     "output_type": "stream",
     "text": [
      "/Users/jasperliao/Desktop/Research/DistPCA/utils.py:30: RuntimeWarning: invalid value encountered in sqrt\n",
      "  return np.sqrt(sq_errors(true_evecs, est_evecs).mean())\n"
     ]
    },
    {
     "name": "stdout",
     "output_type": "stream",
     "text": [
      "Trial #9 Error: 4.712160915387242e-08\n",
      "Running Trial #10\n",
      "Trial #10 Error: 4.2146848510894035e-08\n"
     ]
    }
   ],
   "source": [
    "L = 330\n",
    "T = 1\n",
    "\n",
    "all_max_errs = np.zeros((num_trials, L+1))\n",
    "all_avg_errs = np.zeros((num_trials, L+1))\n",
    "for trial_idx in range(num_trials):\n",
    "    print(f'Running Trial #{trial_idx+1}')\n",
    "    evecs_hist = parallel_deflation(mat, r, L, T, step_size_func, update='pw')\n",
    "    all_max_errs[trial_idx] = np.array([compute_max_error(true_evecs, evecs) for evecs in evecs_hist])\n",
    "    all_avg_errs[trial_idx] = np.array([compute_avg_error(true_evecs, evecs) for evecs in evecs_hist])\n",
    "    print(f'Trial #{trial_idx+1} Error: {all_max_errs[trial_idx,-1]}')\n",
    "\n",
    "max_err_mean_T1 = all_max_errs.mean(axis=0)\n",
    "max_err_std_T1 = all_max_errs.std(axis=0)\n",
    "avg_err_mean_T1 = all_avg_errs.mean(axis=0)\n",
    "avg_err_std_T1 = all_avg_errs.std(axis=0)"
   ]
  },
  {
   "cell_type": "code",
   "execution_count": 4,
   "metadata": {},
   "outputs": [
    {
     "name": "stdout",
     "output_type": "stream",
     "text": [
      "Running Trial #1\n",
      "Trial #1 Error: 4.470348358154297e-08\n",
      "Running Trial #2\n",
      "Trial #2 Error: 4.712160915387242e-08\n",
      "Running Trial #3\n",
      "Trial #3 Error: 4.712160915387242e-08\n",
      "Running Trial #4\n",
      "Trial #4 Error: 4.712160915387242e-08\n",
      "Running Trial #5\n",
      "Trial #5 Error: 4.712160915387242e-08\n",
      "Running Trial #6\n",
      "Trial #6 Error: 4.712160915387242e-08\n",
      "Running Trial #7\n",
      "Trial #7 Error: 4.2146848510894035e-08\n",
      "Running Trial #8\n",
      "Trial #8 Error: 4.9421560620597e-08\n",
      "Running Trial #9\n",
      "Trial #9 Error: 4.9421560620597e-08\n",
      "Running Trial #10\n",
      "Trial #10 Error: 4.712160915387242e-08\n"
     ]
    }
   ],
   "source": [
    "L = 200\n",
    "T = 3\n",
    "\n",
    "all_max_errs = np.zeros((num_trials, L+1))\n",
    "all_avg_errs = np.zeros((num_trials, L+1))\n",
    "for trial_idx in range(num_trials):\n",
    "    print(f'Running Trial #{trial_idx+1}')\n",
    "    evecs_hist = parallel_deflation(mat, r, L, T, step_size_func, update='pw')\n",
    "    all_max_errs[trial_idx] = np.array([compute_max_error(true_evecs, evecs) for evecs in evecs_hist])\n",
    "    all_avg_errs[trial_idx] = np.array([compute_avg_error(true_evecs, evecs) for evecs in evecs_hist])\n",
    "    print(f'Trial #{trial_idx+1} Error: {all_max_errs[trial_idx,-1]}')\n",
    "\n",
    "max_err_mean_T3 = all_max_errs.mean(axis=0)\n",
    "max_err_std_T3 = all_max_errs.std(axis=0)\n",
    "avg_err_mean_T3 = all_avg_errs.mean(axis=0)\n",
    "avg_err_std_T3 = all_avg_errs.std(axis=0)"
   ]
  },
  {
   "cell_type": "code",
   "execution_count": 5,
   "metadata": {},
   "outputs": [
    {
     "name": "stdout",
     "output_type": "stream",
     "text": [
      "Running Trial #1\n",
      "Trial #1 Error: 4.470348358154297e-08\n",
      "Running Trial #2\n",
      "Trial #2 Error: 4.9421560620597e-08\n",
      "Running Trial #3\n",
      "Trial #3 Error: 4.712160915387242e-08\n",
      "Running Trial #4\n",
      "Trial #4 Error: 4.712160915387242e-08\n",
      "Running Trial #5\n",
      "Trial #5 Error: 4.470348358154297e-08\n",
      "Running Trial #6\n",
      "Trial #6 Error: 4.712160915387242e-08\n",
      "Running Trial #7\n",
      "Trial #7 Error: 4.712160915387242e-08\n",
      "Running Trial #8\n",
      "Trial #8 Error: 4.470348358154297e-08\n",
      "Running Trial #9\n",
      "Trial #9 Error: 4.712160915387242e-08\n",
      "Running Trial #10\n",
      "Trial #10 Error: 4.712160915387242e-08\n"
     ]
    }
   ],
   "source": [
    "L = 100\n",
    "T = 5\n",
    "\n",
    "all_max_errs = np.zeros((num_trials, L+1))\n",
    "all_avg_errs = np.zeros((num_trials, L+1))\n",
    "for trial_idx in range(num_trials):\n",
    "    print(f'Running Trial #{trial_idx+1}')\n",
    "    evecs_hist = parallel_deflation(mat, r, L, T, step_size_func, update='pw')\n",
    "    all_max_errs[trial_idx] = np.array([compute_max_error(true_evecs, evecs) for evecs in evecs_hist])\n",
    "    all_avg_errs[trial_idx] = np.array([compute_avg_error(true_evecs, evecs) for evecs in evecs_hist])\n",
    "    print(f'Trial #{trial_idx+1} Error: {all_max_errs[trial_idx,-1]}')\n",
    "\n",
    "max_err_mean_T5 = all_max_errs.mean(axis=0)\n",
    "max_err_std_T5 = all_max_errs.std(axis=0)\n",
    "avg_err_mean_T5 = all_avg_errs.mean(axis=0)\n",
    "avg_err_std_T5 = all_avg_errs.std(axis=0)"
   ]
  },
  {
   "cell_type": "code",
   "execution_count": 6,
   "metadata": {},
   "outputs": [],
   "source": [
    "import json\n",
    "\n",
    "max_err_results = dict()\n",
    "avg_err_results = dict()\n",
    "\n",
    "max_err_results['T=1'] = (max_err_mean_T1.tolist(), max_err_std_T1.tolist())\n",
    "max_err_results['T=3'] = (max_err_mean_T3.tolist(), max_err_std_T3.tolist())\n",
    "max_err_results['T=5'] = (max_err_mean_T5.tolist(), max_err_std_T5.tolist())\n",
    "\n",
    "avg_err_results['T=1'] = (avg_err_mean_T1.tolist(), avg_err_std_T1.tolist())\n",
    "avg_err_results['T=3'] = (avg_err_mean_T3.tolist(), avg_err_std_T3.tolist())\n",
    "avg_err_results['T=5'] = (avg_err_mean_T5.tolist(), avg_err_std_T5.tolist())\n",
    "\n",
    "with open('parallel_deflation_expdecay.txt', 'w+') as jfile:\n",
    "    json.dump(dict(max_result=max_err_results, avg_result=avg_err_results), jfile)"
   ]
  },
  {
   "cell_type": "markdown",
   "metadata": {},
   "source": [
    "## EigenGame-Alpha-Powerlaw"
   ]
  },
  {
   "cell_type": "code",
   "execution_count": 7,
   "metadata": {},
   "outputs": [
    {
     "name": "stdout",
     "output_type": "stream",
     "text": [
      "Running Trial #1\n",
      "Trial #1 Error: 4.2146848510894035e-08\n",
      "Running Trial #2\n",
      "Trial #2 Error: 1.228781230931777e-07\n",
      "Running Trial #3\n",
      "Trial #3 Error: 1.3738191809196602e-07\n",
      "Running Trial #4\n",
      "Trial #4 Error: 8.429369702178807e-08\n",
      "Running Trial #5\n",
      "Trial #5 Error: 3.0282737959774696e-07\n",
      "Running Trial #6\n",
      "Trial #6 Error: 1.0428683881117517e-06\n",
      "Running Trial #7\n",
      "Trial #7 Error: 4.712160915387242e-08\n",
      "Running Trial #8\n",
      "Trial #8 Error: 3.710359215136985e-07\n",
      "Running Trial #9\n",
      "Trial #9 Error: 9.493571779845044e-07\n",
      "Running Trial #10\n",
      "Trial #10 Error: 6.322027276634105e-07\n"
     ]
    }
   ],
   "source": [
    "L = 330\n",
    "T = 1\n",
    "\n",
    "all_max_errs = np.zeros((num_trials, L+1))\n",
    "all_avg_errs = np.zeros((num_trials, L+1))\n",
    "for trial_idx in range(num_trials):\n",
    "    print(f'Running Trial #{trial_idx+1}')\n",
    "    evecs_hist = eigengame(mat, r, L, T, step_size_func, update='alpha')\n",
    "    all_max_errs[trial_idx] = np.array([compute_max_error(true_evecs, evecs) for evecs in evecs_hist])\n",
    "    all_avg_errs[trial_idx] = np.array([compute_avg_error(true_evecs, evecs) for evecs in evecs_hist])\n",
    "    print(f'Trial #{trial_idx+1} Error: {all_max_errs[trial_idx,-1]}')\n",
    "\n",
    "max_err_mean_T1 = all_max_errs.mean(axis=0)\n",
    "max_err_std_T1 = all_max_errs.std(axis=0)\n",
    "avg_err_mean_T1 = all_avg_errs.mean(axis=0)\n",
    "avg_err_std_T1 = all_avg_errs.std(axis=0)"
   ]
  },
  {
   "cell_type": "code",
   "execution_count": 8,
   "metadata": {},
   "outputs": [
    {
     "name": "stdout",
     "output_type": "stream",
     "text": [
      "Running Trial #1\n",
      "Trial #1 Error: 4.712160915387242e-08\n",
      "Running Trial #2\n",
      "Trial #2 Error: 4.712160915387242e-08\n",
      "Running Trial #3\n",
      "Trial #3 Error: 4.712160915387242e-08\n",
      "Running Trial #4\n",
      "Trial #4 Error: 4.712160915387242e-08\n",
      "Running Trial #5\n",
      "Trial #5 Error: 4.712160915387242e-08\n",
      "Running Trial #6\n",
      "Trial #6 Error: 4.712160915387242e-08\n",
      "Running Trial #7\n",
      "Trial #7 Error: 4.712160915387242e-08\n",
      "Running Trial #8\n",
      "Trial #8 Error: 4.712160915387242e-08\n",
      "Running Trial #9\n",
      "Trial #9 Error: 4.9421560620597e-08\n",
      "Running Trial #10\n",
      "Trial #10 Error: 4.712160915387242e-08\n"
     ]
    }
   ],
   "source": [
    "L = 100\n",
    "T = 5\n",
    "\n",
    "all_max_errs = np.zeros((num_trials, L+1))\n",
    "all_avg_errs = np.zeros((num_trials, L+1))\n",
    "for trial_idx in range(num_trials):\n",
    "    print(f'Running Trial #{trial_idx+1}')\n",
    "    evecs_hist = eigengame(mat, r, L, T, step_size_func, update='alpha')\n",
    "    all_max_errs[trial_idx] = np.array([compute_max_error(true_evecs, evecs) for evecs in evecs_hist])\n",
    "    all_avg_errs[trial_idx] = np.array([compute_avg_error(true_evecs, evecs) for evecs in evecs_hist])\n",
    "    print(f'Trial #{trial_idx+1} Error: {all_max_errs[trial_idx,-1]}')\n",
    "\n",
    "max_err_mean_T5 = all_max_errs.mean(axis=0)\n",
    "max_err_std_T5 = all_max_errs.std(axis=0)\n",
    "avg_err_mean_T5 = all_avg_errs.mean(axis=0)\n",
    "avg_err_std_T5 = all_avg_errs.std(axis=0)"
   ]
  },
  {
   "cell_type": "code",
   "execution_count": 9,
   "metadata": {},
   "outputs": [],
   "source": [
    "import json\n",
    "\n",
    "max_err_results = dict()\n",
    "avg_err_results = dict()\n",
    "\n",
    "max_err_results['T=1'] = (max_err_mean_T1.tolist(), max_err_std_T1.tolist())\n",
    "max_err_results['T=5'] = (max_err_mean_T5.tolist(), max_err_std_T5.tolist())\n",
    "\n",
    "avg_err_results['T=1'] = (avg_err_mean_T1.tolist(), avg_err_std_T1.tolist())\n",
    "avg_err_results['T=5'] = (avg_err_mean_T5.tolist(), avg_err_std_T5.tolist())\n",
    "\n",
    "with open('eigengame_alpha_expdecay.txt', 'w+') as jfile:\n",
    "    json.dump(dict(max_result=max_err_results, avg_result=avg_err_results), jfile)"
   ]
  },
  {
   "cell_type": "markdown",
   "metadata": {},
   "source": [
    "## EigenGame-Mu-Powerlaw"
   ]
  },
  {
   "cell_type": "code",
   "execution_count": 10,
   "metadata": {},
   "outputs": [
    {
     "name": "stdout",
     "output_type": "stream",
     "text": [
      "Running Trial #1\n",
      "Trial #1 Error: 4.470348358154297e-08\n",
      "Running Trial #2\n",
      "Trial #2 Error: 4.712160915387242e-08\n",
      "Running Trial #3\n",
      "Trial #3 Error: 4.2146848510894035e-08\n",
      "Running Trial #4\n",
      "Trial #4 Error: 4.712160915387242e-08\n",
      "Running Trial #5\n",
      "Trial #5 Error: 4.470348358154297e-08\n",
      "Running Trial #6\n",
      "Trial #6 Error: 4.470348358154297e-08\n",
      "Running Trial #7\n",
      "Trial #7 Error: 4.470348358154297e-08\n",
      "Running Trial #8\n",
      "Trial #8 Error: 4.470348358154297e-08\n",
      "Running Trial #9\n",
      "Trial #9 Error: 4.712160915387242e-08\n",
      "Running Trial #10\n",
      "Trial #10 Error: 4.2146848510894035e-08\n"
     ]
    }
   ],
   "source": [
    "L = 330\n",
    "T = 1\n",
    "\n",
    "all_max_errs = np.zeros((num_trials, L+1))\n",
    "all_avg_errs = np.zeros((num_trials, L+1))\n",
    "for trial_idx in range(num_trials):\n",
    "    print(f'Running Trial #{trial_idx+1}')\n",
    "    evecs_hist = eigengame(mat, r, L, T, step_size_func, update='mu')\n",
    "    all_max_errs[trial_idx] = np.array([compute_max_error(true_evecs, evecs) for evecs in evecs_hist])\n",
    "    all_avg_errs[trial_idx] = np.array([compute_avg_error(true_evecs, evecs) for evecs in evecs_hist])\n",
    "    print(f'Trial #{trial_idx+1} Error: {all_max_errs[trial_idx,-1]}')\n",
    "\n",
    "max_err_mean_T1 = all_max_errs.mean(axis=0)\n",
    "max_err_std_T1 = all_max_errs.std(axis=0)\n",
    "avg_err_mean_T1 = all_avg_errs.mean(axis=0)\n",
    "avg_err_std_T1 = all_avg_errs.std(axis=0)"
   ]
  },
  {
   "cell_type": "code",
   "execution_count": 11,
   "metadata": {},
   "outputs": [
    {
     "name": "stdout",
     "output_type": "stream",
     "text": [
      "Running Trial #1\n",
      "Trial #1 Error: 4.712160915387242e-08\n",
      "Running Trial #2\n",
      "Trial #2 Error: 4.9421560620597e-08\n",
      "Running Trial #3\n",
      "Trial #3 Error: 4.9421560620597e-08\n",
      "Running Trial #4\n",
      "Trial #4 Error: 4.9421560620597e-08\n",
      "Running Trial #5\n",
      "Trial #5 Error: 4.712160915387242e-08\n",
      "Running Trial #6\n",
      "Trial #6 Error: 4.9421560620597e-08\n",
      "Running Trial #7\n",
      "Trial #7 Error: 4.9421560620597e-08\n",
      "Running Trial #8\n",
      "Trial #8 Error: 4.712160915387242e-08\n",
      "Running Trial #9\n",
      "Trial #9 Error: 4.9421560620597e-08\n",
      "Running Trial #10\n",
      "Trial #10 Error: 4.9421560620597e-08\n"
     ]
    }
   ],
   "source": [
    "L = 100\n",
    "T = 5\n",
    "\n",
    "all_max_errs = np.zeros((num_trials, L+1))\n",
    "all_avg_errs = np.zeros((num_trials, L+1))\n",
    "for trial_idx in range(num_trials):\n",
    "    print(f'Running Trial #{trial_idx+1}')\n",
    "    evecs_hist = eigengame(mat, r, L, T, step_size_func, update='mu')\n",
    "    all_max_errs[trial_idx] = np.array([compute_max_error(true_evecs, evecs) for evecs in evecs_hist])\n",
    "    all_avg_errs[trial_idx] = np.array([compute_avg_error(true_evecs, evecs) for evecs in evecs_hist])\n",
    "    print(f'Trial #{trial_idx+1} Error: {all_max_errs[trial_idx,-1]}')\n",
    "\n",
    "max_err_mean_T5 = all_max_errs.mean(axis=0)\n",
    "max_err_std_T5 = all_max_errs.std(axis=0)\n",
    "avg_err_mean_T5 = all_avg_errs.mean(axis=0)\n",
    "avg_err_std_T5 = all_avg_errs.std(axis=0)"
   ]
  },
  {
   "cell_type": "code",
   "execution_count": 12,
   "metadata": {},
   "outputs": [],
   "source": [
    "import json\n",
    "\n",
    "max_err_results = dict()\n",
    "avg_err_results = dict()\n",
    "\n",
    "max_err_results['T=1'] = (max_err_mean_T1.tolist(), max_err_std_T1.tolist())\n",
    "max_err_results['T=5'] = (max_err_mean_T5.tolist(), max_err_std_T5.tolist())\n",
    "\n",
    "avg_err_results['T=1'] = (avg_err_mean_T1.tolist(), avg_err_std_T1.tolist())\n",
    "avg_err_results['T=5'] = (avg_err_mean_T5.tolist(), avg_err_std_T5.tolist())\n",
    "\n",
    "with open('eigengame_mu_expdecay.txt', 'w+') as jfile:\n",
    "    json.dump(dict(max_result=max_err_results, avg_result=avg_err_results), jfile)"
   ]
  },
  {
   "cell_type": "code",
   "execution_count": null,
   "metadata": {},
   "outputs": [],
   "source": []
  }
 ],
 "metadata": {
  "kernelspec": {
   "display_name": "Python 3",
   "language": "python",
   "name": "python3"
  },
  "language_info": {
   "codemirror_mode": {
    "name": "ipython",
    "version": 3
   },
   "file_extension": ".py",
   "mimetype": "text/x-python",
   "name": "python",
   "nbconvert_exporter": "python",
   "pygments_lexer": "ipython3",
   "version": "3.8.1"
  }
 },
 "nbformat": 4,
 "nbformat_minor": 4
}
